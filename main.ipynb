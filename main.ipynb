{
 "cells": [
  {
   "cell_type": "code",
   "execution_count": null,
   "id": "d3d5ded6",
   "metadata": {},
   "outputs": [],
   "source": [
    "from scripts.canvas import CanvasHelper\n",
    "from scripts.course_helper import CourseHelper\n",
    "from scripts.downloader import download"
   ]
  },
  {
   "cell_type": "markdown",
   "id": "391a98e3",
   "metadata": {},
   "source": [
    "获取所有科目的课程信息"
   ]
  },
  {
   "cell_type": "code",
   "execution_count": null,
   "id": "c022d0c5",
   "metadata": {},
   "outputs": [],
   "source": [
    "helper = CanvasHelper(\"\")   # 在这里填入 jAccount 用户名\n",
    "subjects = helper.refresh()\n",
    "for subject in subjects:\n",
    "    course_helper = CourseHelper(\n",
    "        access_token=subject['access_token'],\n",
    "        canvas_subject_id=subject['canvas_subject_id']\n",
    "    )\n",
    "    courses = course_helper.refresh_courses()\n",
    "    subject['courses'] = courses"
   ]
  },
  {
   "cell_type": "markdown",
   "id": "2d7b04ed",
   "metadata": {},
   "source": [
    "(可选): 对课程列表进行筛选，只保留需要下载的节次\n",
    "\n",
    "下载所选节次的课程视频和字幕"
   ]
  },
  {
   "cell_type": "code",
   "execution_count": null,
   "id": "27d7522a",
   "metadata": {},
   "outputs": [],
   "source": [
    "for subject in subjects:\n",
    "    course_helper = CourseHelper.from_dict(subject)\n",
    "    course_helper.save_transcript(f'./srt/{subject[\"name\"]}')\n",
    "    download(course_helper.courses, f'./videos/{subject[\"name\"]}', classroom_only=True)"
   ]
  }
 ],
 "metadata": {
  "kernelspec": {
   "display_name": "py312",
   "language": "python",
   "name": "python3"
  },
  "language_info": {
   "name": "python",
   "version": "3.12.11"
  }
 },
 "nbformat": 4,
 "nbformat_minor": 5
}
